{
 "cells": [
  {
   "cell_type": "code",
   "execution_count": 39,
   "id": "8665cb47",
   "metadata": {},
   "outputs": [],
   "source": [
    "import numpy as np \n",
    "import pandas as pd\n"
   ]
  },
  {
   "cell_type": "code",
   "execution_count": 40,
   "id": "b1374600",
   "metadata": {},
   "outputs": [],
   "source": [
    "Students_data = pd.read_excel('studentdemo.xlsx')\n",
    "paired_data = pd.read_csv('pairdtestdata.csv')"
   ]
  },
  {
   "cell_type": "code",
   "execution_count": 41,
   "id": "1810993c",
   "metadata": {},
   "outputs": [
    {
     "data": {
      "text/html": [
       "<div>\n",
       "<style scoped>\n",
       "    .dataframe tbody tr th:only-of-type {\n",
       "        vertical-align: middle;\n",
       "    }\n",
       "\n",
       "    .dataframe tbody tr th {\n",
       "        vertical-align: top;\n",
       "    }\n",
       "\n",
       "    .dataframe thead th {\n",
       "        text-align: right;\n",
       "    }\n",
       "</style>\n",
       "<table border=\"1\" class=\"dataframe\">\n",
       "  <thead>\n",
       "    <tr style=\"text-align: right;\">\n",
       "      <th></th>\n",
       "      <th>sex</th>\n",
       "      <th>age</th>\n",
       "      <th>address</th>\n",
       "      <th>internet</th>\n",
       "      <th>romantic</th>\n",
       "      <th>Dalc</th>\n",
       "      <th>absences</th>\n",
       "      <th>G1</th>\n",
       "      <th>G2</th>\n",
       "      <th>G3</th>\n",
       "    </tr>\n",
       "  </thead>\n",
       "  <tbody>\n",
       "    <tr>\n",
       "      <th>0</th>\n",
       "      <td>F</td>\n",
       "      <td>18</td>\n",
       "      <td>U</td>\n",
       "      <td>no</td>\n",
       "      <td>no</td>\n",
       "      <td>1</td>\n",
       "      <td>6</td>\n",
       "      <td>5</td>\n",
       "      <td>6</td>\n",
       "      <td>6</td>\n",
       "    </tr>\n",
       "    <tr>\n",
       "      <th>1</th>\n",
       "      <td>F</td>\n",
       "      <td>17</td>\n",
       "      <td>U</td>\n",
       "      <td>yes</td>\n",
       "      <td>no</td>\n",
       "      <td>1</td>\n",
       "      <td>4</td>\n",
       "      <td>5</td>\n",
       "      <td>5</td>\n",
       "      <td>6</td>\n",
       "    </tr>\n",
       "    <tr>\n",
       "      <th>2</th>\n",
       "      <td>F</td>\n",
       "      <td>15</td>\n",
       "      <td>U</td>\n",
       "      <td>yes</td>\n",
       "      <td>no</td>\n",
       "      <td>2</td>\n",
       "      <td>10</td>\n",
       "      <td>7</td>\n",
       "      <td>8</td>\n",
       "      <td>10</td>\n",
       "    </tr>\n",
       "    <tr>\n",
       "      <th>3</th>\n",
       "      <td>F</td>\n",
       "      <td>15</td>\n",
       "      <td>U</td>\n",
       "      <td>yes</td>\n",
       "      <td>yes</td>\n",
       "      <td>1</td>\n",
       "      <td>2</td>\n",
       "      <td>15</td>\n",
       "      <td>14</td>\n",
       "      <td>15</td>\n",
       "    </tr>\n",
       "    <tr>\n",
       "      <th>4</th>\n",
       "      <td>F</td>\n",
       "      <td>16</td>\n",
       "      <td>U</td>\n",
       "      <td>no</td>\n",
       "      <td>no</td>\n",
       "      <td>1</td>\n",
       "      <td>4</td>\n",
       "      <td>6</td>\n",
       "      <td>10</td>\n",
       "      <td>10</td>\n",
       "    </tr>\n",
       "  </tbody>\n",
       "</table>\n",
       "</div>"
      ],
      "text/plain": [
       "  sex  age address internet romantic  Dalc  absences  G1  G2  G3\n",
       "0   F   18       U       no       no     1         6   5   6   6\n",
       "1   F   17       U      yes       no     1         4   5   5   6\n",
       "2   F   15       U      yes       no     2        10   7   8  10\n",
       "3   F   15       U      yes      yes     1         2  15  14  15\n",
       "4   F   16       U       no       no     1         4   6  10  10"
      ]
     },
     "execution_count": 41,
     "metadata": {},
     "output_type": "execute_result"
    }
   ],
   "source": [
    "Students_data.head()"
   ]
  },
  {
   "cell_type": "code",
   "execution_count": 42,
   "id": "b4131290",
   "metadata": {
    "scrolled": true
   },
   "outputs": [
    {
     "data": {
      "text/html": [
       "<div>\n",
       "<style scoped>\n",
       "    .dataframe tbody tr th:only-of-type {\n",
       "        vertical-align: middle;\n",
       "    }\n",
       "\n",
       "    .dataframe tbody tr th {\n",
       "        vertical-align: top;\n",
       "    }\n",
       "\n",
       "    .dataframe thead th {\n",
       "        text-align: right;\n",
       "    }\n",
       "</style>\n",
       "<table border=\"1\" class=\"dataframe\">\n",
       "  <thead>\n",
       "    <tr style=\"text-align: right;\">\n",
       "      <th></th>\n",
       "      <th>age</th>\n",
       "      <th>Dalc</th>\n",
       "      <th>absences</th>\n",
       "      <th>G1</th>\n",
       "      <th>G2</th>\n",
       "      <th>G3</th>\n",
       "    </tr>\n",
       "  </thead>\n",
       "  <tbody>\n",
       "    <tr>\n",
       "      <th>count</th>\n",
       "      <td>395.000000</td>\n",
       "      <td>395.000000</td>\n",
       "      <td>395.000000</td>\n",
       "      <td>395.000000</td>\n",
       "      <td>395.000000</td>\n",
       "      <td>395.000000</td>\n",
       "    </tr>\n",
       "    <tr>\n",
       "      <th>mean</th>\n",
       "      <td>16.696203</td>\n",
       "      <td>1.481013</td>\n",
       "      <td>5.708861</td>\n",
       "      <td>10.908861</td>\n",
       "      <td>10.713924</td>\n",
       "      <td>10.415190</td>\n",
       "    </tr>\n",
       "    <tr>\n",
       "      <th>std</th>\n",
       "      <td>1.276043</td>\n",
       "      <td>0.890741</td>\n",
       "      <td>8.003096</td>\n",
       "      <td>3.319195</td>\n",
       "      <td>3.761505</td>\n",
       "      <td>4.581443</td>\n",
       "    </tr>\n",
       "    <tr>\n",
       "      <th>min</th>\n",
       "      <td>15.000000</td>\n",
       "      <td>1.000000</td>\n",
       "      <td>0.000000</td>\n",
       "      <td>3.000000</td>\n",
       "      <td>0.000000</td>\n",
       "      <td>0.000000</td>\n",
       "    </tr>\n",
       "    <tr>\n",
       "      <th>25%</th>\n",
       "      <td>16.000000</td>\n",
       "      <td>1.000000</td>\n",
       "      <td>0.000000</td>\n",
       "      <td>8.000000</td>\n",
       "      <td>9.000000</td>\n",
       "      <td>8.000000</td>\n",
       "    </tr>\n",
       "    <tr>\n",
       "      <th>50%</th>\n",
       "      <td>17.000000</td>\n",
       "      <td>1.000000</td>\n",
       "      <td>4.000000</td>\n",
       "      <td>11.000000</td>\n",
       "      <td>11.000000</td>\n",
       "      <td>11.000000</td>\n",
       "    </tr>\n",
       "    <tr>\n",
       "      <th>75%</th>\n",
       "      <td>18.000000</td>\n",
       "      <td>2.000000</td>\n",
       "      <td>8.000000</td>\n",
       "      <td>13.000000</td>\n",
       "      <td>13.000000</td>\n",
       "      <td>14.000000</td>\n",
       "    </tr>\n",
       "    <tr>\n",
       "      <th>max</th>\n",
       "      <td>22.000000</td>\n",
       "      <td>5.000000</td>\n",
       "      <td>75.000000</td>\n",
       "      <td>19.000000</td>\n",
       "      <td>19.000000</td>\n",
       "      <td>20.000000</td>\n",
       "    </tr>\n",
       "  </tbody>\n",
       "</table>\n",
       "</div>"
      ],
      "text/plain": [
       "              age        Dalc    absences          G1          G2          G3\n",
       "count  395.000000  395.000000  395.000000  395.000000  395.000000  395.000000\n",
       "mean    16.696203    1.481013    5.708861   10.908861   10.713924   10.415190\n",
       "std      1.276043    0.890741    8.003096    3.319195    3.761505    4.581443\n",
       "min     15.000000    1.000000    0.000000    3.000000    0.000000    0.000000\n",
       "25%     16.000000    1.000000    0.000000    8.000000    9.000000    8.000000\n",
       "50%     17.000000    1.000000    4.000000   11.000000   11.000000   11.000000\n",
       "75%     18.000000    2.000000    8.000000   13.000000   13.000000   14.000000\n",
       "max     22.000000    5.000000   75.000000   19.000000   19.000000   20.000000"
      ]
     },
     "execution_count": 42,
     "metadata": {},
     "output_type": "execute_result"
    }
   ],
   "source": [
    "Students_data.describe()"
   ]
  },
  {
   "cell_type": "code",
   "execution_count": 43,
   "id": "32d50481",
   "metadata": {},
   "outputs": [],
   "source": [
    "from scipy.stats import ttest_1samp\n",
    "\n"
   ]
  },
  {
   "cell_type": "markdown",
   "id": "f4fa4ced",
   "metadata": {},
   "source": [
    "# one sample t-test \n",
    "To test whether the sample mean and the hypothesized mean are equal or different \n",
    "Null hypothesis - no relationship or no difference thus have the same mean \n",
    "Alternative hypothesis - relationship between variables thus different means\n",
    "If pvalue is less than 0.05 then we reject the null hypothesis otherwise we fail to reject \n",
    "if the sample mean is not significantly different tothe hypothesized then we reject the null hypothesis "
   ]
  },
  {
   "cell_type": "code",
   "execution_count": 44,
   "id": "d75509d9",
   "metadata": {},
   "outputs": [
    {
     "name": "stdout",
     "output_type": "stream",
     "text": [
      "t Statistic:  -4.7317\n",
      "P Value:  0.0000\n",
      "The pvalue is less than alpha = 0.05, reject the null hypothesis\n"
     ]
    }
   ],
   "source": [
    "tscore, pvalue = ttest_1samp(Students_data.age, popmean=17)\n",
    "print(\"t Statistic:  {:.4f}\".format(tscore))\n",
    "print(\"P Value:  {:.4f}\".format(pvalue))\n",
    "\n",
    "if pvalue<0.05:\n",
    "    print('The pvalue is less than alpha = 0.05, reject the null hypothesis')\n",
    "else:\n",
    "        print('Since pvalue is greater than 0.05, there isno sufficient evidence to reject the null hypothesis')\n"
   ]
  },
  {
   "cell_type": "code",
   "execution_count": 45,
   "id": "aba2e504",
   "metadata": {},
   "outputs": [],
   "source": [
    "from scipy.stats import ttest_ind"
   ]
  },
  {
   "cell_type": "code",
   "execution_count": 46,
   "id": "95e6242f",
   "metadata": {},
   "outputs": [
    {
     "data": {
      "text/html": [
       "<div>\n",
       "<style scoped>\n",
       "    .dataframe tbody tr th:only-of-type {\n",
       "        vertical-align: middle;\n",
       "    }\n",
       "\n",
       "    .dataframe tbody tr th {\n",
       "        vertical-align: top;\n",
       "    }\n",
       "\n",
       "    .dataframe thead th {\n",
       "        text-align: right;\n",
       "    }\n",
       "</style>\n",
       "<table border=\"1\" class=\"dataframe\">\n",
       "  <thead>\n",
       "    <tr style=\"text-align: right;\">\n",
       "      <th></th>\n",
       "      <th>age</th>\n",
       "      <th>Dalc</th>\n",
       "      <th>absences</th>\n",
       "      <th>G1</th>\n",
       "      <th>G2</th>\n",
       "      <th>G3</th>\n",
       "    </tr>\n",
       "    <tr>\n",
       "      <th>sex</th>\n",
       "      <th></th>\n",
       "      <th></th>\n",
       "      <th></th>\n",
       "      <th></th>\n",
       "      <th></th>\n",
       "      <th></th>\n",
       "    </tr>\n",
       "  </thead>\n",
       "  <tbody>\n",
       "    <tr>\n",
       "      <th>F</th>\n",
       "      <td>16.730769</td>\n",
       "      <td>1.254808</td>\n",
       "      <td>6.216346</td>\n",
       "      <td>10.620192</td>\n",
       "      <td>10.389423</td>\n",
       "      <td>9.966346</td>\n",
       "    </tr>\n",
       "    <tr>\n",
       "      <th>M</th>\n",
       "      <td>16.657754</td>\n",
       "      <td>1.732620</td>\n",
       "      <td>5.144385</td>\n",
       "      <td>11.229947</td>\n",
       "      <td>11.074866</td>\n",
       "      <td>10.914439</td>\n",
       "    </tr>\n",
       "  </tbody>\n",
       "</table>\n",
       "</div>"
      ],
      "text/plain": [
       "           age      Dalc  absences         G1         G2         G3\n",
       "sex                                                                \n",
       "F    16.730769  1.254808  6.216346  10.620192  10.389423   9.966346\n",
       "M    16.657754  1.732620  5.144385  11.229947  11.074866  10.914439"
      ]
     },
     "execution_count": 46,
     "metadata": {},
     "output_type": "execute_result"
    }
   ],
   "source": [
    "Students_data.groupby('sex').mean()"
   ]
  },
  {
   "cell_type": "markdown",
   "id": "035bc91e",
   "metadata": {},
   "source": [
    "# Two sample t-test(independent)\n",
    "even if male students had higher mean average in G1 compared to their female counterparts, the difference is not statistically significant "
   ]
  },
  {
   "cell_type": "code",
   "execution_count": 47,
   "id": "cb085235",
   "metadata": {},
   "outputs": [
    {
     "name": "stdout",
     "output_type": "stream",
     "text": [
      "t Statistic: 1.8237\n",
      "p value: 0.0690\n",
      "Since pvalue is greater than 0.05, there isno sufficient evidence to reject the null hypothesis\n"
     ]
    }
   ],
   "source": [
    "G1_male = Students_data.G1[Students_data.sex=='M']\n",
    "G1_female = Students_data.G1[Students_data.sex=='F']\n",
    "\n",
    "tscore, pvalue = ttest_ind(G1_male, G1_female, equal_var = False)\n",
    "print(\"t Statistic: {:.4f}\".format(tscore))\n",
    "print(\"p value: {:.4f}\".format(pvalue))\n",
    "\n",
    "if pvalue<0.05:\n",
    "    print('The pvalue is less than alpha = 0.05, reject the null hypothesis')\n",
    "else:\n",
    "        print('Since pvalue is greater than 0.05, there isno sufficient evidence to reject the null hypothesis')\n",
    "\n"
   ]
  },
  {
   "attachments": {},
   "cell_type": "markdown",
   "id": "1378a6b3",
   "metadata": {},
   "source": [
    "# paired sample t-test\n",
    "mean difference in the weight of chicks before and two weeks after they are subject to new feed is statistically significant. Therefore we have enough evidence to reject the null hypothesis "
   ]
  },
  {
   "cell_type": "code",
   "execution_count": 48,
   "id": "4b4ca067",
   "metadata": {},
   "outputs": [],
   "source": [
    "from scipy.stats import ttest_rel"
   ]
  },
  {
   "cell_type": "code",
   "execution_count": 49,
   "id": "1dd9b3b7",
   "metadata": {},
   "outputs": [
    {
     "name": "stdout",
     "output_type": "stream",
     "text": [
      "t Statistic: -18.8433\n",
      "P Value: 0.0000\n",
      "The pvalue is less than alpha = 0.05, reject the null hypothesis\n"
     ]
    }
   ],
   "source": [
    "tscore, pvalue = ttest_rel(paired_data['Weight Before'], paired_data['Weight After'])\n",
    "print(\"t Statistic: {:.4f}\".format(tscore))\n",
    "print(\"P Value: {:.4f}\".format(pvalue))\n",
    "\n",
    "if pvalue<0.05:\n",
    "    print('The pvalue is less than alpha = 0.05, reject the null hypothesis')\n",
    "else:\n",
    "        print('Since pvalue is greater than 0.05, there isno sufficient evidence to reject the null hypothesis')\n"
   ]
  },
  {
   "cell_type": "markdown",
   "id": "f4db71f3",
   "metadata": {},
   "source": [
    "# Correlation Between G1,G2 and G3 using Pearson r"
   ]
  },
  {
   "cell_type": "code",
   "execution_count": 56,
   "id": "c5a08c10",
   "metadata": {},
   "outputs": [],
   "source": [
    "from scipy.stats import spearmanr\n",
    "from scipy.stats import pearsonr\n",
    "from scipy.stats import kendalltau"
   ]
  },
  {
   "cell_type": "code",
   "execution_count": 57,
   "id": "7b1d2e45",
   "metadata": {},
   "outputs": [
    {
     "name": "stdout",
     "output_type": "stream",
     "text": [
      "correlation coefficient for G1 and G2: 0.8521\n",
      "P Value for G1 and G2: 0.0000\n",
      "The p_value is less than alpha = 0.05, correlation is statistically significant\n",
      "*************G1 and G2***********\n",
      "correlation coefficient for G1 and G3: 0.8015\n",
      "P Value for G1 and G3: 0.0000\n",
      "The p_value is less than alpha = 0.05, correlation is statistically significant\n",
      "*************G2 and G3***********\n",
      "correlation coefficient for G2 and G3: 0.9049\n",
      "P Value for G2 and G3: 0.0000\n"
     ]
    }
   ],
   "source": [
    "cor, p_value = pearsonr(Students_data.G1, Students_data.G2)\n",
    "print(\"correlation coefficient for G1 and G2: {:.4f}\".format(cor))\n",
    "print(\"P Value for G1 and G2: {:.4f}\".format(p_value))\n",
    "if p_value<0.05:\n",
    "    print('The p_value is less than alpha = 0.05, correlation is statistically significant')\n",
    "else:\n",
    "        print('Correlation not statistically significant')\n",
    "        \n",
    "print('*************G1 and G2***********')\n",
    "        \n",
    "cor, p_value = pearsonr(Students_data.G1, Students_data.G3)\n",
    "print(\"correlation coefficient for G1 and G3: {:.4f}\".format(cor))\n",
    "print(\"P Value for G1 and G3: {:.4f}\".format(p_value))\n",
    "if p_value<0.05:\n",
    "    print('The p_value is less than alpha = 0.05, correlation is statistically significant')\n",
    "else:\n",
    "        print('Correlation not statistically significant')\n",
    "        \n",
    "print('*************G2 and G3***********')\n",
    "        \n",
    "cor, p_value = pearsonr(Students_data.G2, Students_data.G3)\n",
    "print(\"correlation coefficient for G2 and G3: {:.4f}\".format(cor))\n",
    "print(\"P Value for G2 and G3: {:.4f}\".format(p_value))\n",
    "\n",
    "        \n",
    "\n",
    "        \n",
    "\n"
   ]
  },
  {
   "cell_type": "markdown",
   "id": "8aff0ae4",
   "metadata": {},
   "source": [
    "# Using spearmanr"
   ]
  },
  {
   "cell_type": "code",
   "execution_count": 58,
   "id": "d476959f",
   "metadata": {},
   "outputs": [
    {
     "name": "stdout",
     "output_type": "stream",
     "text": [
      "correlation coefficient for G1 and G2: 0.8948\n",
      "P Value for G1 and G2: 0.0000\n",
      "The p_value is less than alpha = 0.05, correlation is statistically significant\n",
      "*************G1 and G2***********\n",
      "correlation coefficient for G1 and G3: 0.8780\n",
      "P Value for G1 and G3: 0.0000\n",
      "The p_value is less than alpha = 0.05, correlation is statistically significant\n",
      "*************G2 and G3***********\n",
      "correlation coefficient for G2 and G3: 0.9571\n",
      "P Value for G2 and G3: 0.0000\n"
     ]
    }
   ],
   "source": [
    "cor, p_value = spearmanr(Students_data.G1, Students_data.G2)\n",
    "print(\"correlation coefficient for G1 and G2: {:.4f}\".format(cor))\n",
    "print(\"P Value for G1 and G2: {:.4f}\".format(p_value))\n",
    "if p_value<0.05:\n",
    "    print('The p_value is less than alpha = 0.05, correlation is statistically significant')\n",
    "else:\n",
    "        print('Correlation not statistically significant')\n",
    "        \n",
    "print('*************G1 and G2***********')\n",
    "        \n",
    "cor, p_value = spearmanr(Students_data.G1, Students_data.G3)\n",
    "print(\"correlation coefficient for G1 and G3: {:.4f}\".format(cor))\n",
    "print(\"P Value for G1 and G3: {:.4f}\".format(p_value))\n",
    "if p_value<0.05:\n",
    "    print('The p_value is less than alpha = 0.05, correlation is statistically significant')\n",
    "else:\n",
    "        print('Correlation not statistically significant')\n",
    "        \n",
    "print('*************G2 and G3***********')\n",
    "        \n",
    "cor, p_value = spearmanr(Students_data.G2, Students_data.G3)\n",
    "print(\"correlation coefficient for G2 and G3: {:.4f}\".format(cor))\n",
    "print(\"P Value for G2 and G3: {:.4f}\".format(p_value))\n"
   ]
  },
  {
   "cell_type": "markdown",
   "id": "34990f49",
   "metadata": {},
   "source": [
    "# Using Kendall Tau"
   ]
  },
  {
   "cell_type": "code",
   "execution_count": 59,
   "id": "f4a66a3b",
   "metadata": {},
   "outputs": [
    {
     "name": "stdout",
     "output_type": "stream",
     "text": [
      "correlation coefficient for G1 and G2: 0.7735\n",
      "P Value for G1 and G2: 0.0000\n",
      "The p_value is less than alpha = 0.05, correlation is statistically significant\n",
      "*************G1 and G2***********\n",
      "correlation coefficient for G1 and G3: 0.7463\n",
      "P Value for G1 and G3: 0.0000\n",
      "The p_value is less than alpha = 0.05, correlation is statistically significant\n",
      "*************G2 and G3***********\n",
      "correlation coefficient for G2 and G3: 0.8835\n",
      "P Value for G2 and G3: 0.0000\n"
     ]
    }
   ],
   "source": [
    "cor, p_value = kendalltau(Students_data.G1, Students_data.G2)\n",
    "print(\"correlation coefficient for G1 and G2: {:.4f}\".format(cor))\n",
    "print(\"P Value for G1 and G2: {:.4f}\".format(p_value))\n",
    "if p_value<0.05:\n",
    "    print('The p_value is less than alpha = 0.05, correlation is statistically significant')\n",
    "else:\n",
    "        print('Correlation not statistically significant')\n",
    "        \n",
    "print('*************G1 and G2***********')\n",
    "        \n",
    "cor, p_value = kendalltau(Students_data.G1, Students_data.G3)\n",
    "print(\"correlation coefficient for G1 and G3: {:.4f}\".format(cor))\n",
    "print(\"P Value for G1 and G3: {:.4f}\".format(p_value))\n",
    "if p_value<0.05:\n",
    "    print('The p_value is less than alpha = 0.05, correlation is statistically significant')\n",
    "else:\n",
    "        print('Correlation not statistically significant')\n",
    "        \n",
    "print('*************G2 and G3***********')\n",
    "        \n",
    "cor, p_value = kendalltau(Students_data.G2, Students_data.G3)\n",
    "print(\"correlation coefficient for G2 and G3: {:.4f}\".format(cor))\n",
    "print(\"P Value for G2 and G3: {:.4f}\".format(p_value))\n"
   ]
  },
  {
   "cell_type": "markdown",
   "id": "b02ab5c5",
   "metadata": {},
   "source": [
    "# Regression using stats model"
   ]
  },
  {
   "cell_type": "code",
   "execution_count": 60,
   "id": "f508fd7b",
   "metadata": {},
   "outputs": [],
   "source": [
    "import statsmodels.api as sm"
   ]
  },
  {
   "cell_type": "code",
   "execution_count": 61,
   "id": "32259bd8",
   "metadata": {},
   "outputs": [
    {
     "name": "stdout",
     "output_type": "stream",
     "text": [
      "                                 OLS Regression Results                                \n",
      "=======================================================================================\n",
      "Dep. Variable:                     G3   R-squared (uncentered):                   0.940\n",
      "Model:                            OLS   Adj. R-squared (uncentered):              0.940\n",
      "Method:                 Least Squares   F-statistic:                              6212.\n",
      "Date:                Fri, 27 Aug 2021   Prob (F-statistic):                   2.54e-243\n",
      "Time:                        22:45:31   Log-Likelihood:                         -964.10\n",
      "No. Observations:                 395   AIC:                                      1930.\n",
      "Df Residuals:                     394   BIC:                                      1934.\n",
      "Df Model:                           1                                                  \n",
      "Covariance Type:            nonrobust                                                  \n",
      "==============================================================================\n",
      "                 coef    std err          t      P>|t|      [0.025      0.975]\n",
      "------------------------------------------------------------------------------\n",
      "G1             0.9676      0.012     78.814      0.000       0.943       0.992\n",
      "==============================================================================\n",
      "Omnibus:                      135.559   Durbin-Watson:                   1.646\n",
      "Prob(Omnibus):                  0.000   Jarque-Bera (JB):              356.630\n",
      "Skew:                          -1.679   Prob(JB):                     3.62e-78\n",
      "Kurtosis:                       6.223   Cond. No.                         1.00\n",
      "==============================================================================\n",
      "\n",
      "Notes:\n",
      "[1] R² is computed without centering (uncentered) since the model does not contain a constant.\n",
      "[2] Standard Errors assume that the covariance matrix of the errors is correctly specified.\n"
     ]
    }
   ],
   "source": [
    "mod = sm.OLS(Students_data.G3, Students_data.G1)\n",
    "res = mod.fit()\n",
    "print(res.summary())"
   ]
  },
  {
   "cell_type": "markdown",
   "id": "21420aad",
   "metadata": {},
   "source": [
    "# Multiple Linear Regression"
   ]
  },
  {
   "cell_type": "code",
   "execution_count": 63,
   "id": "bb254e47",
   "metadata": {},
   "outputs": [
    {
     "name": "stdout",
     "output_type": "stream",
     "text": [
      "                                 OLS Regression Results                                \n",
      "=======================================================================================\n",
      "Dep. Variable:                     G3   R-squared (uncentered):                   0.969\n",
      "Model:                            OLS   Adj. R-squared (uncentered):              0.969\n",
      "Method:                 Least Squares   F-statistic:                              6151.\n",
      "Date:                Fri, 27 Aug 2021   Prob (F-statistic):                   2.71e-297\n",
      "Time:                        22:51:30   Log-Likelihood:                         -834.58\n",
      "No. Observations:                 395   AIC:                                      1673.\n",
      "Df Residuals:                     393   BIC:                                      1681.\n",
      "Df Model:                           2                                                  \n",
      "Covariance Type:            nonrobust                                                  \n",
      "==============================================================================\n",
      "                 coef    std err          t      P>|t|      [0.025      0.975]\n",
      "------------------------------------------------------------------------------\n",
      "G1             0.0067      0.051      0.132      0.895      -0.094       0.107\n",
      "G2             0.9797      0.051     19.084      0.000       0.879       1.081\n",
      "==============================================================================\n",
      "Omnibus:                      261.432   Durbin-Watson:                   1.893\n",
      "Prob(Omnibus):                  0.000   Jarque-Bera (JB):             1976.762\n",
      "Skew:                          -2.899   Prob(JB):                         0.00\n",
      "Kurtosis:                      12.299   Cond. No.                         11.5\n",
      "==============================================================================\n",
      "\n",
      "Notes:\n",
      "[1] R² is computed without centering (uncentered) since the model does not contain a constant.\n",
      "[2] Standard Errors assume that the covariance matrix of the errors is correctly specified.\n"
     ]
    }
   ],
   "source": [
    "predictors = Students_data[['G1','G2']]\n",
    "response = Students_data.G3\n",
    "\n",
    "mult_mod = sm.OLS(response, predictors)\n",
    "mult_res = mult_mod.fit()\n",
    "print(mult_res.summary())"
   ]
  },
  {
   "cell_type": "code",
   "execution_count": null,
   "id": "b0f5f420",
   "metadata": {},
   "outputs": [],
   "source": []
  }
 ],
 "metadata": {
  "kernelspec": {
   "display_name": "Python 3 (ipykernel)",
   "language": "python",
   "name": "python3"
  },
  "language_info": {
   "codemirror_mode": {
    "name": "ipython",
    "version": 3
   },
   "file_extension": ".py",
   "mimetype": "text/x-python",
   "name": "python",
   "nbconvert_exporter": "python",
   "pygments_lexer": "ipython3",
   "version": "3.9.5"
  }
 },
 "nbformat": 4,
 "nbformat_minor": 5
}
