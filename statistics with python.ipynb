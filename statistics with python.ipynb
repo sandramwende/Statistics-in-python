{
 "cells": [
  {
   "cell_type": "code",
   "execution_count": 1,
   "id": "8665cb47",
   "metadata": {},
   "outputs": [],
   "source": [
    "import numpy as np \n",
    "import pandas as pd\n"
   ]
  },
  {
   "cell_type": "code",
   "execution_count": 2,
   "id": "b1374600",
   "metadata": {},
   "outputs": [],
   "source": [
    "Students_data = pd.read_excel('studentdemo.xlsx')\n",
    "paired_data = pd.read_csv('pairdtestdata.csv')"
   ]
  },
  {
   "cell_type": "code",
   "execution_count": 3,
   "id": "1810993c",
   "metadata": {},
   "outputs": [
    {
     "data": {
      "text/html": [
       "<div>\n",
       "<style scoped>\n",
       "    .dataframe tbody tr th:only-of-type {\n",
       "        vertical-align: middle;\n",
       "    }\n",
       "\n",
       "    .dataframe tbody tr th {\n",
       "        vertical-align: top;\n",
       "    }\n",
       "\n",
       "    .dataframe thead th {\n",
       "        text-align: right;\n",
       "    }\n",
       "</style>\n",
       "<table border=\"1\" class=\"dataframe\">\n",
       "  <thead>\n",
       "    <tr style=\"text-align: right;\">\n",
       "      <th></th>\n",
       "      <th>sex</th>\n",
       "      <th>age</th>\n",
       "      <th>address</th>\n",
       "      <th>internet</th>\n",
       "      <th>romantic</th>\n",
       "      <th>Dalc</th>\n",
       "      <th>absences</th>\n",
       "      <th>G1</th>\n",
       "      <th>G2</th>\n",
       "      <th>G3</th>\n",
       "    </tr>\n",
       "  </thead>\n",
       "  <tbody>\n",
       "    <tr>\n",
       "      <th>0</th>\n",
       "      <td>F</td>\n",
       "      <td>18</td>\n",
       "      <td>U</td>\n",
       "      <td>no</td>\n",
       "      <td>no</td>\n",
       "      <td>1</td>\n",
       "      <td>6</td>\n",
       "      <td>5</td>\n",
       "      <td>6</td>\n",
       "      <td>6</td>\n",
       "    </tr>\n",
       "    <tr>\n",
       "      <th>1</th>\n",
       "      <td>F</td>\n",
       "      <td>17</td>\n",
       "      <td>U</td>\n",
       "      <td>yes</td>\n",
       "      <td>no</td>\n",
       "      <td>1</td>\n",
       "      <td>4</td>\n",
       "      <td>5</td>\n",
       "      <td>5</td>\n",
       "      <td>6</td>\n",
       "    </tr>\n",
       "    <tr>\n",
       "      <th>2</th>\n",
       "      <td>F</td>\n",
       "      <td>15</td>\n",
       "      <td>U</td>\n",
       "      <td>yes</td>\n",
       "      <td>no</td>\n",
       "      <td>2</td>\n",
       "      <td>10</td>\n",
       "      <td>7</td>\n",
       "      <td>8</td>\n",
       "      <td>10</td>\n",
       "    </tr>\n",
       "    <tr>\n",
       "      <th>3</th>\n",
       "      <td>F</td>\n",
       "      <td>15</td>\n",
       "      <td>U</td>\n",
       "      <td>yes</td>\n",
       "      <td>yes</td>\n",
       "      <td>1</td>\n",
       "      <td>2</td>\n",
       "      <td>15</td>\n",
       "      <td>14</td>\n",
       "      <td>15</td>\n",
       "    </tr>\n",
       "    <tr>\n",
       "      <th>4</th>\n",
       "      <td>F</td>\n",
       "      <td>16</td>\n",
       "      <td>U</td>\n",
       "      <td>no</td>\n",
       "      <td>no</td>\n",
       "      <td>1</td>\n",
       "      <td>4</td>\n",
       "      <td>6</td>\n",
       "      <td>10</td>\n",
       "      <td>10</td>\n",
       "    </tr>\n",
       "  </tbody>\n",
       "</table>\n",
       "</div>"
      ],
      "text/plain": [
       "  sex  age address internet romantic  Dalc  absences  G1  G2  G3\n",
       "0   F   18       U       no       no     1         6   5   6   6\n",
       "1   F   17       U      yes       no     1         4   5   5   6\n",
       "2   F   15       U      yes       no     2        10   7   8  10\n",
       "3   F   15       U      yes      yes     1         2  15  14  15\n",
       "4   F   16       U       no       no     1         4   6  10  10"
      ]
     },
     "execution_count": 3,
     "metadata": {},
     "output_type": "execute_result"
    }
   ],
   "source": [
    "Students_data.head()"
   ]
  },
  {
   "cell_type": "code",
   "execution_count": 4,
   "id": "b4131290",
   "metadata": {
    "scrolled": true
   },
   "outputs": [
    {
     "data": {
      "text/html": [
       "<div>\n",
       "<style scoped>\n",
       "    .dataframe tbody tr th:only-of-type {\n",
       "        vertical-align: middle;\n",
       "    }\n",
       "\n",
       "    .dataframe tbody tr th {\n",
       "        vertical-align: top;\n",
       "    }\n",
       "\n",
       "    .dataframe thead th {\n",
       "        text-align: right;\n",
       "    }\n",
       "</style>\n",
       "<table border=\"1\" class=\"dataframe\">\n",
       "  <thead>\n",
       "    <tr style=\"text-align: right;\">\n",
       "      <th></th>\n",
       "      <th>age</th>\n",
       "      <th>Dalc</th>\n",
       "      <th>absences</th>\n",
       "      <th>G1</th>\n",
       "      <th>G2</th>\n",
       "      <th>G3</th>\n",
       "    </tr>\n",
       "  </thead>\n",
       "  <tbody>\n",
       "    <tr>\n",
       "      <th>count</th>\n",
       "      <td>395.000000</td>\n",
       "      <td>395.000000</td>\n",
       "      <td>395.000000</td>\n",
       "      <td>395.000000</td>\n",
       "      <td>395.000000</td>\n",
       "      <td>395.000000</td>\n",
       "    </tr>\n",
       "    <tr>\n",
       "      <th>mean</th>\n",
       "      <td>16.696203</td>\n",
       "      <td>1.481013</td>\n",
       "      <td>5.708861</td>\n",
       "      <td>10.908861</td>\n",
       "      <td>10.713924</td>\n",
       "      <td>10.415190</td>\n",
       "    </tr>\n",
       "    <tr>\n",
       "      <th>std</th>\n",
       "      <td>1.276043</td>\n",
       "      <td>0.890741</td>\n",
       "      <td>8.003096</td>\n",
       "      <td>3.319195</td>\n",
       "      <td>3.761505</td>\n",
       "      <td>4.581443</td>\n",
       "    </tr>\n",
       "    <tr>\n",
       "      <th>min</th>\n",
       "      <td>15.000000</td>\n",
       "      <td>1.000000</td>\n",
       "      <td>0.000000</td>\n",
       "      <td>3.000000</td>\n",
       "      <td>0.000000</td>\n",
       "      <td>0.000000</td>\n",
       "    </tr>\n",
       "    <tr>\n",
       "      <th>25%</th>\n",
       "      <td>16.000000</td>\n",
       "      <td>1.000000</td>\n",
       "      <td>0.000000</td>\n",
       "      <td>8.000000</td>\n",
       "      <td>9.000000</td>\n",
       "      <td>8.000000</td>\n",
       "    </tr>\n",
       "    <tr>\n",
       "      <th>50%</th>\n",
       "      <td>17.000000</td>\n",
       "      <td>1.000000</td>\n",
       "      <td>4.000000</td>\n",
       "      <td>11.000000</td>\n",
       "      <td>11.000000</td>\n",
       "      <td>11.000000</td>\n",
       "    </tr>\n",
       "    <tr>\n",
       "      <th>75%</th>\n",
       "      <td>18.000000</td>\n",
       "      <td>2.000000</td>\n",
       "      <td>8.000000</td>\n",
       "      <td>13.000000</td>\n",
       "      <td>13.000000</td>\n",
       "      <td>14.000000</td>\n",
       "    </tr>\n",
       "    <tr>\n",
       "      <th>max</th>\n",
       "      <td>22.000000</td>\n",
       "      <td>5.000000</td>\n",
       "      <td>75.000000</td>\n",
       "      <td>19.000000</td>\n",
       "      <td>19.000000</td>\n",
       "      <td>20.000000</td>\n",
       "    </tr>\n",
       "  </tbody>\n",
       "</table>\n",
       "</div>"
      ],
      "text/plain": [
       "              age        Dalc    absences          G1          G2          G3\n",
       "count  395.000000  395.000000  395.000000  395.000000  395.000000  395.000000\n",
       "mean    16.696203    1.481013    5.708861   10.908861   10.713924   10.415190\n",
       "std      1.276043    0.890741    8.003096    3.319195    3.761505    4.581443\n",
       "min     15.000000    1.000000    0.000000    3.000000    0.000000    0.000000\n",
       "25%     16.000000    1.000000    0.000000    8.000000    9.000000    8.000000\n",
       "50%     17.000000    1.000000    4.000000   11.000000   11.000000   11.000000\n",
       "75%     18.000000    2.000000    8.000000   13.000000   13.000000   14.000000\n",
       "max     22.000000    5.000000   75.000000   19.000000   19.000000   20.000000"
      ]
     },
     "execution_count": 4,
     "metadata": {},
     "output_type": "execute_result"
    }
   ],
   "source": [
    "Students_data.describe()"
   ]
  },
  {
   "cell_type": "code",
   "execution_count": 5,
   "id": "32d50481",
   "metadata": {},
   "outputs": [],
   "source": [
    "from scipy.stats import ttest_1samp\n",
    "## library for one sample t-test"
   ]
  },
  {
   "cell_type": "markdown",
   "id": "9b350591",
   "metadata": {},
   "source": [
    "# INFERENTIAL STATISTICS\n",
    "# HYPOTHESIS TESTING USING \n",
    "#### Pvalue \n",
    "#### Critical value \n",
    "#### Confidence interval"
   ]
  },
  {
   "cell_type": "markdown",
   "id": "f4fa4ced",
   "metadata": {},
   "source": [
    "## one sample t-test using pvalue\n",
    "To test whether the sample mean and the hypothesized mean are equal or different \n",
    "Null hypothesis - no relationship or no difference thus have the same mean \n",
    "Alternative hypothesis - relationship between variables thus different means\n",
    "If pvalue is less than 0.05 then we reject the null hypothesis otherwise we fail to reject \n",
    "if the sample mean is not significantly different tothe hypothesized then we reject the null hypothesis "
   ]
  },
  {
   "cell_type": "code",
   "execution_count": 6,
   "id": "d75509d9",
   "metadata": {},
   "outputs": [
    {
     "name": "stdout",
     "output_type": "stream",
     "text": [
      "t Statistic:  -4.7317\n",
      "P Value:  0.0000\n",
      "The pvalue is less than alpha = 0.05, reject the null hypothesis\n"
     ]
    }
   ],
   "source": [
    "tscore, pvalue = ttest_1samp(Students_data.age, popmean=17)\n",
    "print(\"t Statistic:  {:.4f}\".format(tscore))\n",
    "print(\"P Value:  {:.4f}\".format(pvalue))\n",
    "\n",
    "if pvalue<0.05:\n",
    "    print('The pvalue is less than alpha = 0.05, reject the null hypothesis')\n",
    "else:\n",
    "        print('Since pvalue is greater than 0.05, there isno sufficient evidence to reject the null hypothesis')\n"
   ]
  },
  {
   "cell_type": "code",
   "execution_count": 7,
   "id": "aba2e504",
   "metadata": {},
   "outputs": [],
   "source": [
    "## library for independent t-test\n",
    "from scipy.stats import ttest_ind"
   ]
  },
  {
   "cell_type": "code",
   "execution_count": 8,
   "id": "95e6242f",
   "metadata": {},
   "outputs": [
    {
     "data": {
      "text/html": [
       "<div>\n",
       "<style scoped>\n",
       "    .dataframe tbody tr th:only-of-type {\n",
       "        vertical-align: middle;\n",
       "    }\n",
       "\n",
       "    .dataframe tbody tr th {\n",
       "        vertical-align: top;\n",
       "    }\n",
       "\n",
       "    .dataframe thead th {\n",
       "        text-align: right;\n",
       "    }\n",
       "</style>\n",
       "<table border=\"1\" class=\"dataframe\">\n",
       "  <thead>\n",
       "    <tr style=\"text-align: right;\">\n",
       "      <th></th>\n",
       "      <th>age</th>\n",
       "      <th>Dalc</th>\n",
       "      <th>absences</th>\n",
       "      <th>G1</th>\n",
       "      <th>G2</th>\n",
       "      <th>G3</th>\n",
       "    </tr>\n",
       "    <tr>\n",
       "      <th>sex</th>\n",
       "      <th></th>\n",
       "      <th></th>\n",
       "      <th></th>\n",
       "      <th></th>\n",
       "      <th></th>\n",
       "      <th></th>\n",
       "    </tr>\n",
       "  </thead>\n",
       "  <tbody>\n",
       "    <tr>\n",
       "      <th>F</th>\n",
       "      <td>16.730769</td>\n",
       "      <td>1.254808</td>\n",
       "      <td>6.216346</td>\n",
       "      <td>10.620192</td>\n",
       "      <td>10.389423</td>\n",
       "      <td>9.966346</td>\n",
       "    </tr>\n",
       "    <tr>\n",
       "      <th>M</th>\n",
       "      <td>16.657754</td>\n",
       "      <td>1.732620</td>\n",
       "      <td>5.144385</td>\n",
       "      <td>11.229947</td>\n",
       "      <td>11.074866</td>\n",
       "      <td>10.914439</td>\n",
       "    </tr>\n",
       "  </tbody>\n",
       "</table>\n",
       "</div>"
      ],
      "text/plain": [
       "           age      Dalc  absences         G1         G2         G3\n",
       "sex                                                                \n",
       "F    16.730769  1.254808  6.216346  10.620192  10.389423   9.966346\n",
       "M    16.657754  1.732620  5.144385  11.229947  11.074866  10.914439"
      ]
     },
     "execution_count": 8,
     "metadata": {},
     "output_type": "execute_result"
    }
   ],
   "source": [
    "Students_data.groupby('sex').mean()"
   ]
  },
  {
   "cell_type": "markdown",
   "id": "035bc91e",
   "metadata": {},
   "source": [
    "## Two sample t-test(independent) using pvalue\n",
    "even if male students had higher mean average in G1 compared to their female counterparts, the difference is not statistically significant "
   ]
  },
  {
   "cell_type": "code",
   "execution_count": 9,
   "id": "cb085235",
   "metadata": {},
   "outputs": [
    {
     "name": "stdout",
     "output_type": "stream",
     "text": [
      "t Statistic: 1.8237\n",
      "p value: 0.0690\n",
      "Since pvalue is greater than 0.05, there isno sufficient evidence to reject the null hypothesis\n"
     ]
    }
   ],
   "source": [
    "G1_male = Students_data.G1[Students_data.sex=='M']\n",
    "G1_female = Students_data.G1[Students_data.sex=='F']\n",
    "\n",
    "tscore, pvalue = ttest_ind(G1_male, G1_female, equal_var = False)\n",
    "print(\"t Statistic: {:.4f}\".format(tscore))\n",
    "print(\"p value: {:.4f}\".format(pvalue))\n",
    "\n",
    "if pvalue<0.05:\n",
    "    print('The pvalue is less than alpha = 0.05, reject the null hypothesis')\n",
    "else:\n",
    "        print('Since pvalue is greater than 0.05, there isno sufficient evidence to reject the null hypothesis')\n",
    "\n"
   ]
  },
  {
   "cell_type": "markdown",
   "id": "1378a6b3",
   "metadata": {},
   "source": [
    "## paired sample t-test using pvalue\n",
    "mean difference in the weight of chicks before and two weeks after they are subject to new feed is statistically significant. Therefore we have enough evidence to reject the null hypothesis "
   ]
  },
  {
   "cell_type": "code",
   "execution_count": 10,
   "id": "4b4ca067",
   "metadata": {},
   "outputs": [],
   "source": [
    "## library for paired sample t-test\n",
    "from scipy.stats import ttest_rel "
   ]
  },
  {
   "cell_type": "code",
   "execution_count": 11,
   "id": "1dd9b3b7",
   "metadata": {},
   "outputs": [
    {
     "name": "stdout",
     "output_type": "stream",
     "text": [
      "t Statistic: -18.8433\n",
      "P Value: 0.0000\n",
      "The pvalue is less than alpha = 0.05, reject the null hypothesis\n"
     ]
    }
   ],
   "source": [
    "tscore, pvalue = ttest_rel(paired_data['Weight Before'], paired_data['Weight After'])\n",
    "print(\"t Statistic: {:.4f}\".format(tscore))\n",
    "print(\"P Value: {:.4f}\".format(pvalue))\n",
    "\n",
    "if pvalue<0.05:\n",
    "    print('The pvalue is less than alpha = 0.05, reject the null hypothesis')\n",
    "else:\n",
    "        print('Since pvalue is greater than 0.05, there isno sufficient evidence to reject the null hypothesis')\n"
   ]
  },
  {
   "cell_type": "markdown",
   "id": "2273086e",
   "metadata": {},
   "source": [
    "# Decision based on critical value to test hypothesis\n",
    "We look at the value of the test statistics. If the absolute value of the test statistics (tscore) is greater than the t_critical value, we reject the null hypothesis \n",
    "We will use 0.975 to find the critical value "
   ]
  },
  {
   "cell_type": "code",
   "execution_count": 12,
   "id": "5103661e",
   "metadata": {},
   "outputs": [],
   "source": [
    "from scipy.stats import t ###library to get the critical value \n",
    "import math"
   ]
  },
  {
   "cell_type": "markdown",
   "id": "b06bbca8",
   "metadata": {},
   "source": [
    "## One sample t-test using critical value"
   ]
  },
  {
   "cell_type": "code",
   "execution_count": 13,
   "id": "13e6fe03",
   "metadata": {},
   "outputs": [
    {
     "name": "stdout",
     "output_type": "stream",
     "text": [
      "t Statistic: -4.7317\n",
      "P Value: 0.0000\n",
      "T critical value: 1.9660\n",
      "\n",
      "The absolute of T_Statistics is greater than T_critical value, reject the null hypothesis\n"
     ]
    }
   ],
   "source": [
    "tscore, pvalue = ttest_1samp(Students_data.age, popmean=17)\n",
    "print(\"t Statistic: {:.4f}\".format(tscore))\n",
    "print(\"P Value: {:.4f}\".format(pvalue))\n",
    "\n",
    "t_critical_value = t.ppf(q=0.975, df=len(Students_data.age)-1)\n",
    "print(\"T critical value: {:.4f}\".format(t_critical_value))\n",
    "print()\n",
    "if np.abs(tscore)>t_critical_value:\n",
    "    print('The absolute of T_Statistics is greater than T_critical value, reject the null hypothesis')\n",
    "else:\n",
    "        print('Since absolute of T_Statistics is less than T_critical value, there is no sufficient evidence to reject the null hypothesis')\n"
   ]
  },
  {
   "cell_type": "markdown",
   "id": "467f81b5",
   "metadata": {},
   "source": [
    "## Independent two sample t-test\n",
    "   ### Mean difference in G1"
   ]
  },
  {
   "cell_type": "code",
   "execution_count": 14,
   "id": "b9b5050c",
   "metadata": {},
   "outputs": [
    {
     "name": "stdout",
     "output_type": "stream",
     "text": [
      "t Statistic: 1.8237\n",
      "p value: 0.0690\n",
      "T critical value: 1.9660\n",
      "\n",
      "Since absolute of T_Statistics is less than T_critical value, there is no sufficient evidence to reject the null hypothesis\n"
     ]
    }
   ],
   "source": [
    "G1_male = Students_data.G1[Students_data.sex=='M']\n",
    "G1_female = Students_data.G1[Students_data.sex=='F']\n",
    "\n",
    "tscore, pvalue = ttest_ind(G1_male, G1_female, equal_var = False)\n",
    "print(\"t Statistic: {:.4f}\".format(tscore))\n",
    "print(\"p value: {:.4f}\".format(pvalue))\n",
    "\n",
    "t_critical_value = t.ppf(q=0.975, df=len(G1_male)+len(G1_female)-2)\n",
    "print(\"T critical value: {:.4f}\".format(t_critical_value))\n",
    "print()\n",
    "if np.abs(tscore)>t_critical_value:\n",
    "    print('The absolute of T_Statistics is greater than T_critical value, reject the null hypothesis')\n",
    "else:\n",
    "        print('Since absolute of T_Statistics is less than T_critical value, there is no sufficient evidence to reject the null hypothesis')\n"
   ]
  },
  {
   "cell_type": "markdown",
   "id": "f26d51e0",
   "metadata": {},
   "source": [
    "###  Mean difference in G2"
   ]
  },
  {
   "cell_type": "code",
   "execution_count": 15,
   "id": "e8b7d493",
   "metadata": {},
   "outputs": [
    {
     "name": "stdout",
     "output_type": "stream",
     "text": [
      "t Statistic: 1.8077\n",
      "p value: 0.0714\n",
      "T critical value: 1.9660\n",
      "\n",
      "Since absolute of T_Statistics is less than T_critical value, there is no sufficient evidence to reject the null hypothesis\n"
     ]
    }
   ],
   "source": [
    "G2_male = Students_data.G2[Students_data.sex=='M']\n",
    "G2_female = Students_data.G2[Students_data.sex=='F']\n",
    "\n",
    "tscore, pvalue = ttest_ind(G2_male, G2_female, equal_var = False)\n",
    "print(\"t Statistic: {:.4f}\".format(tscore))\n",
    "print(\"p value: {:.4f}\".format(pvalue))\n",
    "\n",
    "t_critical_value = t.ppf(q=0.975, df=len(G2_male)+len(G2_female)-2)\n",
    "print(\"T critical value: {:.4f}\".format(t_critical_value))\n",
    "print()\n",
    "if np.abs(tscore)>t_critical_value:\n",
    "    print('The absolute of T_Statistics is greater than T_critical value, reject the null hypothesis')\n",
    "else:\n",
    "        print('Since absolute of T_Statistics is less than T_critical value, there is no sufficient evidence to reject the null hypothesis')\n"
   ]
  },
  {
   "cell_type": "markdown",
   "id": "56d3df30",
   "metadata": {},
   "source": [
    "# Confidence interval method in hypothesis testing \n",
    "## one sample t-test using confidence interval\n",
    "we will reject the null hyposthesis because the hypothesized mean 17 is not within the confidence interval"
   ]
  },
  {
   "cell_type": "code",
   "execution_count": 16,
   "id": "3685d1b9",
   "metadata": {},
   "outputs": [
    {
     "name": "stdout",
     "output_type": "stream",
     "text": [
      "Hypothesized mean age = 17\n",
      "T critical value: 1.9660\n",
      "The standard deviation: 1.2760\n",
      "The stanard error: 0.0642\n",
      "The margin of Error: 0.1262\n",
      "The confidence interval is:  (16.569975930412973, 16.822429132878163)\n",
      "\n",
      "Reject the null hypothesis if the hypothesized mean does not fall within the confidence interval\n"
     ]
    }
   ],
   "source": [
    "print(\"Hypothesized mean age = 17\")\n",
    "\n",
    "## calculate the critical value \n",
    "t_critical_value = t.ppf(q=0.975, df=394)\n",
    "print(\"T critical value: {:.4f}\".format(t_critical_value))\n",
    "\n",
    "## Standard deviation\n",
    "std_dv = Students_data.age.std(ddof=1)\n",
    "print(\"The standard deviation: {:.4f}\".format(std_dv))\n",
    "\n",
    "##Standard error\n",
    "std_error = std_dv/math.sqrt(len(Students_data.age))\n",
    "print(\"The stanard error: {:.4f}\".format(std_error))\n",
    "\n",
    "##Calculate Margin of error\n",
    "error_margin =t_critical_value*std_error\n",
    "print(\"The margin of Error: {:.4f}\".format(error_margin))\n",
    "\n",
    "##Confidence interval\n",
    "confidence_interval = (Students_data.age.mean() - error_margin,\n",
    "                      Students_data.age.mean() + error_margin)\n",
    "print(\"The confidence interval is: \", confidence_interval)\n",
    "print()\n",
    "print(\"Reject the null hypothesis if the hypothesized mean does not fall within the confidence interval\")\n",
    "\n",
    "## we will reject the null hyposthesis because the hypothesized mean 17 is not within the confidence interval"
   ]
  },
  {
   "cell_type": "markdown",
   "id": "9c507fb4",
   "metadata": {},
   "source": [
    "## Independent sample t-test (confidence interval)\n",
    "we will fail to reject the null hypothesis as the difference in mean 0.610 is is less than differnce in confidence level 0.655,\n",
    "and the pvalue is more than 0.05 "
   ]
  },
  {
   "cell_type": "code",
   "execution_count": 17,
   "id": "28a44edb",
   "metadata": {},
   "outputs": [
    {
     "name": "stdout",
     "output_type": "stream",
     "text": [
      "t Statistic: 1.8284\n",
      "p value: 0.0683\n",
      "Sample sizes: \n",
      "\tsample size of male = 187\n",
      "\tsample size of female = 208\n",
      "Means in G1: \n",
      "\tMean of male in G1 = 11.230\n",
      "\tMean of female in G1 = 10.620\n",
      "Standard deviation in G1: \n",
      "\tStd of male in G1 = 3.393\n",
      "\tStd of female in G1 = 3.233\n",
      "Pooled std, Standard error and Margin of error: \n",
      "\tPooled Std Deviation = 3.309\n",
      "\tStandard Error = 0.167\n",
      "\tMargin of Error = 0.327\n",
      "The results of the independent t-test are: \n",
      "\tt-value = 1.828\n",
      "\tp_value = 0.068\n",
      "\tt-critical value = 1.966\n",
      "\n",
      "The difference between groups is 0.610 [0.282 to 0.937] (mean [95% CI])\n"
     ]
    }
   ],
   "source": [
    "G1_male = Students_data.G1[Students_data.sex=='M']\n",
    "G1_female = Students_data.G1[Students_data.sex=='F']\n",
    "\n",
    "#sample size of male and  female\n",
    "N_male = len(G1_male)\n",
    "N_female = len(G1_female)\n",
    "degree_of_freedom = N_male + N_female - 2\n",
    "\n",
    "tscore, pvalue = ttest_ind(G1_male, G1_female)\n",
    "print(\"t Statistic: {:.4f}\".format(tscore))\n",
    "print(\"p value: {:.4f}\".format(pvalue))\n",
    "t_critical_value = t.ppf(q=0.975, df = degree_of_freedom)\n",
    "\n",
    "## calculate the mean difference and 95% confidence interval\n",
    "std_male = G1_male.std(ddof=1)\n",
    "std_female = G1_female.std(ddof=1)\n",
    "\n",
    "pooled_std = math.sqrt( ((N_male-1)*(std_male)**2 + (N_female-1)*(std_female)**2)/ degree_of_freedom)\n",
    "std_error = (pooled_std/math.sqrt(N_female + N_male))\n",
    "\n",
    "diff_mean = G1_male.mean() - G1_female.mean()\n",
    "MoE = t_critical_value * std_error\n",
    "\n",
    "print(\"Sample sizes: \\n\\tsample size of male = {}\\n\\tsample size of female = {}\".format(N_male, N_female))\n",
    "print(\"Means in G1: \\n\\tMean of male in G1 = {:.3f}\\n\\tMean of female in G1 = {:.3f}\".format(G1_male.mean(), G1_female.mean()))\n",
    "print(\"Standard deviation in G1: \\n\\tStd of male in G1 = {:.3f}\\n\\tStd of female in G1 = {:.3f}\".format(std_male, std_female))\n",
    "print(\"Pooled std, Standard error and Margin of error: \\n\\tPooled Std Deviation = {:.3f}\\n\\tStandard Error = {:.3f}\\n\\tMargin of Error = {:.3f}\".format(pooled_std, std_error, MoE))\n",
    "print(\"The results of the independent t-test are: \\n\\tt-value = {:.3f}\\n\\tp_value = {:.3f}\\n\\tt-critical value = {:.3f}\".format(tscore, pvalue, t_critical_value))\n",
    "print(\"\\nThe difference between groups is {:.3f} [{:.3f} to {:.3f}] (mean [95% CI])\".format(diff_mean, diff_mean - MoE, diff_mean + MoE))\n",
    "\n",
    "## we will fail to reject the null hypothesis as the difference in mean 0.610 is less than differnce in confidence level \n",
    "## and the pvalue is more than 0.05 "
   ]
  },
  {
   "cell_type": "code",
   "execution_count": 18,
   "id": "541f3e8f",
   "metadata": {},
   "outputs": [
    {
     "data": {
      "text/plain": [
       "0.655"
      ]
     },
     "execution_count": 18,
     "metadata": {},
     "output_type": "execute_result"
    }
   ],
   "source": [
    "## we fail to reject the null hypothesis as the difference in confidence interval is more than the difference between groups\n",
    "0.937 - 0.282\n",
    "## NB if the differnce between groups 0.610 is greater than the difference in confidence interval \n",
    "## then we reject the null hypothesis"
   ]
  },
  {
   "cell_type": "markdown",
   "id": "5860e130",
   "metadata": {},
   "source": [
    "# Using the pingouin library to test hypothesis"
   ]
  },
  {
   "cell_type": "code",
   "execution_count": 19,
   "id": "30434021",
   "metadata": {},
   "outputs": [],
   "source": [
    "## library for pingouin \n",
    "import pingouin as pg"
   ]
  },
  {
   "cell_type": "markdown",
   "id": "c7c7f26e",
   "metadata": {},
   "source": [
    "## One sample t-test using pingouin"
   ]
  },
  {
   "cell_type": "code",
   "execution_count": 24,
   "id": "7278e6c0",
   "metadata": {},
   "outputs": [
    {
     "data": {
      "text/html": [
       "<div>\n",
       "<style scoped>\n",
       "    .dataframe tbody tr th:only-of-type {\n",
       "        vertical-align: middle;\n",
       "    }\n",
       "\n",
       "    .dataframe tbody tr th {\n",
       "        vertical-align: top;\n",
       "    }\n",
       "\n",
       "    .dataframe thead th {\n",
       "        text-align: right;\n",
       "    }\n",
       "</style>\n",
       "<table border=\"1\" class=\"dataframe\">\n",
       "  <thead>\n",
       "    <tr style=\"text-align: right;\">\n",
       "      <th></th>\n",
       "      <th>T</th>\n",
       "      <th>dof</th>\n",
       "      <th>alternative</th>\n",
       "      <th>p-val</th>\n",
       "      <th>CI95%</th>\n",
       "      <th>cohen-d</th>\n",
       "      <th>BF10</th>\n",
       "      <th>power</th>\n",
       "    </tr>\n",
       "  </thead>\n",
       "  <tbody>\n",
       "    <tr>\n",
       "      <th>T-test</th>\n",
       "      <td>-4.731703</td>\n",
       "      <td>394</td>\n",
       "      <td>two-sided</td>\n",
       "      <td>0.000003</td>\n",
       "      <td>[16.57, 16.82]</td>\n",
       "      <td>0.238078</td>\n",
       "      <td>2798.407</td>\n",
       "      <td>0.997111</td>\n",
       "    </tr>\n",
       "  </tbody>\n",
       "</table>\n",
       "</div>"
      ],
      "text/plain": [
       "               T  dof alternative     p-val           CI95%   cohen-d  \\\n",
       "T-test -4.731703  394   two-sided  0.000003  [16.57, 16.82]  0.238078   \n",
       "\n",
       "            BF10     power  \n",
       "T-test  2798.407  0.997111  "
      ]
     },
     "metadata": {},
     "output_type": "display_data"
    }
   ],
   "source": [
    "result = pg.ttest(Students_data.age, 17, correction = False)\n",
    "display(result)"
   ]
  },
  {
   "cell_type": "code",
   "execution_count": 26,
   "id": "864a03af",
   "metadata": {},
   "outputs": [
    {
     "data": {
      "text/plain": [
       "16.696202531645568"
      ]
     },
     "execution_count": 26,
     "metadata": {},
     "output_type": "execute_result"
    }
   ],
   "source": [
    "## Mean of the students age \n",
    "Students_data.age.mean()"
   ]
  },
  {
   "cell_type": "markdown",
   "id": "ac37169e",
   "metadata": {},
   "source": [
    "### One sided t-test(less)\n",
    "##### Null hypothesis: Mean_age >= 17\n",
    "##### Alternative hypothesis : Mean_age < 17"
   ]
  },
  {
   "cell_type": "code",
   "execution_count": 22,
   "id": "b835c9d9",
   "metadata": {},
   "outputs": [
    {
     "data": {
      "text/html": [
       "<div>\n",
       "<style scoped>\n",
       "    .dataframe tbody tr th:only-of-type {\n",
       "        vertical-align: middle;\n",
       "    }\n",
       "\n",
       "    .dataframe tbody tr th {\n",
       "        vertical-align: top;\n",
       "    }\n",
       "\n",
       "    .dataframe thead th {\n",
       "        text-align: right;\n",
       "    }\n",
       "</style>\n",
       "<table border=\"1\" class=\"dataframe\">\n",
       "  <thead>\n",
       "    <tr style=\"text-align: right;\">\n",
       "      <th></th>\n",
       "      <th>T</th>\n",
       "      <th>dof</th>\n",
       "      <th>alternative</th>\n",
       "      <th>p-val</th>\n",
       "      <th>CI95%</th>\n",
       "      <th>cohen-d</th>\n",
       "      <th>BF10</th>\n",
       "      <th>power</th>\n",
       "    </tr>\n",
       "  </thead>\n",
       "  <tbody>\n",
       "    <tr>\n",
       "      <th>T-test</th>\n",
       "      <td>-4.731703</td>\n",
       "      <td>394</td>\n",
       "      <td>less</td>\n",
       "      <td>0.000002</td>\n",
       "      <td>[-inf, 16.8]</td>\n",
       "      <td>0.238078</td>\n",
       "      <td>5596.814</td>\n",
       "      <td>0.99896</td>\n",
       "    </tr>\n",
       "  </tbody>\n",
       "</table>\n",
       "</div>"
      ],
      "text/plain": [
       "               T  dof alternative     p-val         CI95%   cohen-d      BF10  \\\n",
       "T-test -4.731703  394        less  0.000002  [-inf, 16.8]  0.238078  5596.814   \n",
       "\n",
       "          power  \n",
       "T-test  0.99896  "
      ]
     },
     "metadata": {},
     "output_type": "display_data"
    }
   ],
   "source": [
    "## Reject the null hypothesis\n",
    "result = pg.ttest(Students_data.age, 17, correction = False, alternative='less')\n",
    "display(result)"
   ]
  },
  {
   "cell_type": "markdown",
   "id": "468870f4",
   "metadata": {},
   "source": [
    "### One sided t-test(greater)\n",
    "##### Null hypothesis:  Mean_age <= 17\n",
    "##### Alternative hypothesis : Mean_age > 17"
   ]
  },
  {
   "cell_type": "code",
   "execution_count": 23,
   "id": "80c27a81",
   "metadata": {},
   "outputs": [
    {
     "data": {
      "text/html": [
       "<div>\n",
       "<style scoped>\n",
       "    .dataframe tbody tr th:only-of-type {\n",
       "        vertical-align: middle;\n",
       "    }\n",
       "\n",
       "    .dataframe tbody tr th {\n",
       "        vertical-align: top;\n",
       "    }\n",
       "\n",
       "    .dataframe thead th {\n",
       "        text-align: right;\n",
       "    }\n",
       "</style>\n",
       "<table border=\"1\" class=\"dataframe\">\n",
       "  <thead>\n",
       "    <tr style=\"text-align: right;\">\n",
       "      <th></th>\n",
       "      <th>T</th>\n",
       "      <th>dof</th>\n",
       "      <th>alternative</th>\n",
       "      <th>p-val</th>\n",
       "      <th>CI95%</th>\n",
       "      <th>cohen-d</th>\n",
       "      <th>BF10</th>\n",
       "      <th>power</th>\n",
       "    </tr>\n",
       "  </thead>\n",
       "  <tbody>\n",
       "    <tr>\n",
       "      <th>T-test</th>\n",
       "      <td>-4.731703</td>\n",
       "      <td>394</td>\n",
       "      <td>greater</td>\n",
       "      <td>0.999998</td>\n",
       "      <td>[16.59, inf]</td>\n",
       "      <td>0.238078</td>\n",
       "      <td>0.0</td>\n",
       "      <td>0.0</td>\n",
       "    </tr>\n",
       "  </tbody>\n",
       "</table>\n",
       "</div>"
      ],
      "text/plain": [
       "               T  dof alternative     p-val         CI95%   cohen-d BF10  \\\n",
       "T-test -4.731703  394     greater  0.999998  [16.59, inf]  0.238078  0.0   \n",
       "\n",
       "        power  \n",
       "T-test    0.0  "
      ]
     },
     "metadata": {},
     "output_type": "display_data"
    }
   ],
   "source": [
    "## Fail to reject the null hypothesis\n",
    "result = pg.ttest(Students_data.age, 17, correction = False, alternative='greater')\n",
    "display(result)"
   ]
  },
  {
   "cell_type": "markdown",
   "id": "09dd69b2",
   "metadata": {},
   "source": [
    "## Two sample t-test using pingouin"
   ]
  },
  {
   "cell_type": "code",
   "execution_count": 51,
   "id": "3f493ee6",
   "metadata": {},
   "outputs": [
    {
     "name": "stdout",
     "output_type": "stream",
     "text": [
      "Mean difference: 0.6098\n"
     ]
    },
    {
     "data": {
      "text/html": [
       "<div>\n",
       "<style scoped>\n",
       "    .dataframe tbody tr th:only-of-type {\n",
       "        vertical-align: middle;\n",
       "    }\n",
       "\n",
       "    .dataframe tbody tr th {\n",
       "        vertical-align: top;\n",
       "    }\n",
       "\n",
       "    .dataframe thead th {\n",
       "        text-align: right;\n",
       "    }\n",
       "</style>\n",
       "<table border=\"1\" class=\"dataframe\">\n",
       "  <thead>\n",
       "    <tr style=\"text-align: right;\">\n",
       "      <th></th>\n",
       "      <th>T</th>\n",
       "      <th>dof</th>\n",
       "      <th>alternative</th>\n",
       "      <th>p-val</th>\n",
       "      <th>CI95%</th>\n",
       "      <th>cohen-d</th>\n",
       "      <th>BF10</th>\n",
       "      <th>power</th>\n",
       "    </tr>\n",
       "  </thead>\n",
       "  <tbody>\n",
       "    <tr>\n",
       "      <th>T-test</th>\n",
       "      <td>1.82366</td>\n",
       "      <td>383.788441</td>\n",
       "      <td>two-sided</td>\n",
       "      <td>0.068981</td>\n",
       "      <td>[-0.05, 1.27]</td>\n",
       "      <td>0.184251</td>\n",
       "      <td>0.552</td>\n",
       "      <td>0.445962</td>\n",
       "    </tr>\n",
       "  </tbody>\n",
       "</table>\n",
       "</div>"
      ],
      "text/plain": [
       "              T         dof alternative     p-val          CI95%   cohen-d  \\\n",
       "T-test  1.82366  383.788441   two-sided  0.068981  [-0.05, 1.27]  0.184251   \n",
       "\n",
       "         BF10     power  \n",
       "T-test  0.552  0.445962  "
      ]
     },
     "metadata": {},
     "output_type": "display_data"
    }
   ],
   "source": [
    "G1_male = Students_data.G1[Students_data.sex == 'M']\n",
    "G1_female = Students_data.G1[Students_data.sex == 'F']\n",
    "\n",
    "print('Mean difference: {:.4f}'.format(G1_male.mean()-G1_female.mean()))\n",
    "result = pg.ttest(G1_male, G1_female, correction='auto')\n",
    "display(result)"
   ]
  },
  {
   "cell_type": "code",
   "execution_count": null,
   "id": "a23e7779",
   "metadata": {},
   "outputs": [],
   "source": []
  },
  {
   "cell_type": "code",
   "execution_count": null,
   "id": "7cdfe0eb",
   "metadata": {},
   "outputs": [],
   "source": []
  },
  {
   "cell_type": "code",
   "execution_count": null,
   "id": "b1af2222",
   "metadata": {},
   "outputs": [],
   "source": []
  },
  {
   "cell_type": "markdown",
   "id": "f4db71f3",
   "metadata": {},
   "source": [
    "# CORELATION Between G1,G2 and G3 \n",
    "## using Pearson r"
   ]
  },
  {
   "cell_type": "code",
   "execution_count": 56,
   "id": "c5a08c10",
   "metadata": {},
   "outputs": [],
   "source": [
    "from scipy.stats import spearmanr\n",
    "from scipy.stats import pearsonr\n",
    "from scipy.stats import kendalltau"
   ]
  },
  {
   "cell_type": "code",
   "execution_count": 57,
   "id": "7b1d2e45",
   "metadata": {},
   "outputs": [
    {
     "name": "stdout",
     "output_type": "stream",
     "text": [
      "correlation coefficient for G1 and G2: 0.8521\n",
      "P Value for G1 and G2: 0.0000\n",
      "The p_value is less than alpha = 0.05, correlation is statistically significant\n",
      "*************G1 and G2***********\n",
      "correlation coefficient for G1 and G3: 0.8015\n",
      "P Value for G1 and G3: 0.0000\n",
      "The p_value is less than alpha = 0.05, correlation is statistically significant\n",
      "*************G2 and G3***********\n",
      "correlation coefficient for G2 and G3: 0.9049\n",
      "P Value for G2 and G3: 0.0000\n"
     ]
    }
   ],
   "source": [
    "cor, p_value = pearsonr(Students_data.G1, Students_data.G2)\n",
    "print(\"correlation coefficient for G1 and G2: {:.4f}\".format(cor))\n",
    "print(\"P Value for G1 and G2: {:.4f}\".format(p_value))\n",
    "if p_value<0.05:\n",
    "    print('The p_value is less than alpha = 0.05, correlation is statistically significant')\n",
    "else:\n",
    "        print('Correlation not statistically significant')\n",
    "        \n",
    "print('*************G1 and G2***********')\n",
    "        \n",
    "cor, p_value = pearsonr(Students_data.G1, Students_data.G3)\n",
    "print(\"correlation coefficient for G1 and G3: {:.4f}\".format(cor))\n",
    "print(\"P Value for G1 and G3: {:.4f}\".format(p_value))\n",
    "if p_value<0.05:\n",
    "    print('The p_value is less than alpha = 0.05, correlation is statistically significant')\n",
    "else:\n",
    "        print('Correlation not statistically significant')\n",
    "        \n",
    "print('*************G2 and G3***********')\n",
    "        \n",
    "cor, p_value = pearsonr(Students_data.G2, Students_data.G3)\n",
    "print(\"correlation coefficient for G2 and G3: {:.4f}\".format(cor))\n",
    "print(\"P Value for G2 and G3: {:.4f}\".format(p_value))\n",
    "\n",
    "        \n",
    "\n",
    "        \n",
    "\n"
   ]
  },
  {
   "cell_type": "markdown",
   "id": "8aff0ae4",
   "metadata": {},
   "source": [
    "## Using spearmanr"
   ]
  },
  {
   "cell_type": "code",
   "execution_count": 58,
   "id": "d476959f",
   "metadata": {},
   "outputs": [
    {
     "name": "stdout",
     "output_type": "stream",
     "text": [
      "correlation coefficient for G1 and G2: 0.8948\n",
      "P Value for G1 and G2: 0.0000\n",
      "The p_value is less than alpha = 0.05, correlation is statistically significant\n",
      "*************G1 and G2***********\n",
      "correlation coefficient for G1 and G3: 0.8780\n",
      "P Value for G1 and G3: 0.0000\n",
      "The p_value is less than alpha = 0.05, correlation is statistically significant\n",
      "*************G2 and G3***********\n",
      "correlation coefficient for G2 and G3: 0.9571\n",
      "P Value for G2 and G3: 0.0000\n"
     ]
    }
   ],
   "source": [
    "cor, p_value = spearmanr(Students_data.G1, Students_data.G2)\n",
    "print(\"correlation coefficient for G1 and G2: {:.4f}\".format(cor))\n",
    "print(\"P Value for G1 and G2: {:.4f}\".format(p_value))\n",
    "if p_value<0.05:\n",
    "    print('The p_value is less than alpha = 0.05, correlation is statistically significant')\n",
    "else:\n",
    "        print('Correlation not statistically significant')\n",
    "        \n",
    "print('*************G1 and G2***********')\n",
    "        \n",
    "cor, p_value = spearmanr(Students_data.G1, Students_data.G3)\n",
    "print(\"correlation coefficient for G1 and G3: {:.4f}\".format(cor))\n",
    "print(\"P Value for G1 and G3: {:.4f}\".format(p_value))\n",
    "if p_value<0.05:\n",
    "    print('The p_value is less than alpha = 0.05, correlation is statistically significant')\n",
    "else:\n",
    "        print('Correlation not statistically significant')\n",
    "        \n",
    "print('*************G2 and G3***********')\n",
    "        \n",
    "cor, p_value = spearmanr(Students_data.G2, Students_data.G3)\n",
    "print(\"correlation coefficient for G2 and G3: {:.4f}\".format(cor))\n",
    "print(\"P Value for G2 and G3: {:.4f}\".format(p_value))\n"
   ]
  },
  {
   "cell_type": "markdown",
   "id": "34990f49",
   "metadata": {},
   "source": [
    "## Using Kendall Tau"
   ]
  },
  {
   "cell_type": "code",
   "execution_count": 59,
   "id": "f4a66a3b",
   "metadata": {},
   "outputs": [
    {
     "name": "stdout",
     "output_type": "stream",
     "text": [
      "correlation coefficient for G1 and G2: 0.7735\n",
      "P Value for G1 and G2: 0.0000\n",
      "The p_value is less than alpha = 0.05, correlation is statistically significant\n",
      "*************G1 and G2***********\n",
      "correlation coefficient for G1 and G3: 0.7463\n",
      "P Value for G1 and G3: 0.0000\n",
      "The p_value is less than alpha = 0.05, correlation is statistically significant\n",
      "*************G2 and G3***********\n",
      "correlation coefficient for G2 and G3: 0.8835\n",
      "P Value for G2 and G3: 0.0000\n"
     ]
    }
   ],
   "source": [
    "cor, p_value = kendalltau(Students_data.G1, Students_data.G2)\n",
    "print(\"correlation coefficient for G1 and G2: {:.4f}\".format(cor))\n",
    "print(\"P Value for G1 and G2: {:.4f}\".format(p_value))\n",
    "if p_value<0.05:\n",
    "    print('The p_value is less than alpha = 0.05, correlation is statistically significant')\n",
    "else:\n",
    "        print('Correlation not statistically significant')\n",
    "        \n",
    "print('*************G1 and G2***********')\n",
    "        \n",
    "cor, p_value = kendalltau(Students_data.G1, Students_data.G3)\n",
    "print(\"correlation coefficient for G1 and G3: {:.4f}\".format(cor))\n",
    "print(\"P Value for G1 and G3: {:.4f}\".format(p_value))\n",
    "if p_value<0.05:\n",
    "    print('The p_value is less than alpha = 0.05, correlation is statistically significant')\n",
    "else:\n",
    "        print('Correlation not statistically significant')\n",
    "        \n",
    "print('*************G2 and G3***********')\n",
    "        \n",
    "cor, p_value = kendalltau(Students_data.G2, Students_data.G3)\n",
    "print(\"correlation coefficient for G2 and G3: {:.4f}\".format(cor))\n",
    "print(\"P Value for G2 and G3: {:.4f}\".format(p_value))\n"
   ]
  },
  {
   "cell_type": "markdown",
   "id": "b02ab5c5",
   "metadata": {},
   "source": [
    "# Regression using stats model"
   ]
  },
  {
   "cell_type": "code",
   "execution_count": 60,
   "id": "f508fd7b",
   "metadata": {},
   "outputs": [],
   "source": [
    "import statsmodels.api as sm"
   ]
  },
  {
   "cell_type": "code",
   "execution_count": 61,
   "id": "32259bd8",
   "metadata": {},
   "outputs": [
    {
     "name": "stdout",
     "output_type": "stream",
     "text": [
      "                                 OLS Regression Results                                \n",
      "=======================================================================================\n",
      "Dep. Variable:                     G3   R-squared (uncentered):                   0.940\n",
      "Model:                            OLS   Adj. R-squared (uncentered):              0.940\n",
      "Method:                 Least Squares   F-statistic:                              6212.\n",
      "Date:                Fri, 27 Aug 2021   Prob (F-statistic):                   2.54e-243\n",
      "Time:                        22:45:31   Log-Likelihood:                         -964.10\n",
      "No. Observations:                 395   AIC:                                      1930.\n",
      "Df Residuals:                     394   BIC:                                      1934.\n",
      "Df Model:                           1                                                  \n",
      "Covariance Type:            nonrobust                                                  \n",
      "==============================================================================\n",
      "                 coef    std err          t      P>|t|      [0.025      0.975]\n",
      "------------------------------------------------------------------------------\n",
      "G1             0.9676      0.012     78.814      0.000       0.943       0.992\n",
      "==============================================================================\n",
      "Omnibus:                      135.559   Durbin-Watson:                   1.646\n",
      "Prob(Omnibus):                  0.000   Jarque-Bera (JB):              356.630\n",
      "Skew:                          -1.679   Prob(JB):                     3.62e-78\n",
      "Kurtosis:                       6.223   Cond. No.                         1.00\n",
      "==============================================================================\n",
      "\n",
      "Notes:\n",
      "[1] R² is computed without centering (uncentered) since the model does not contain a constant.\n",
      "[2] Standard Errors assume that the covariance matrix of the errors is correctly specified.\n"
     ]
    }
   ],
   "source": [
    "mod = sm.OLS(Students_data.G3, Students_data.G1)\n",
    "res = mod.fit()\n",
    "print(res.summary())"
   ]
  },
  {
   "cell_type": "markdown",
   "id": "21420aad",
   "metadata": {},
   "source": [
    "# Multiple Linear Regression"
   ]
  },
  {
   "cell_type": "code",
   "execution_count": 63,
   "id": "bb254e47",
   "metadata": {},
   "outputs": [
    {
     "name": "stdout",
     "output_type": "stream",
     "text": [
      "                                 OLS Regression Results                                \n",
      "=======================================================================================\n",
      "Dep. Variable:                     G3   R-squared (uncentered):                   0.969\n",
      "Model:                            OLS   Adj. R-squared (uncentered):              0.969\n",
      "Method:                 Least Squares   F-statistic:                              6151.\n",
      "Date:                Fri, 27 Aug 2021   Prob (F-statistic):                   2.71e-297\n",
      "Time:                        22:51:30   Log-Likelihood:                         -834.58\n",
      "No. Observations:                 395   AIC:                                      1673.\n",
      "Df Residuals:                     393   BIC:                                      1681.\n",
      "Df Model:                           2                                                  \n",
      "Covariance Type:            nonrobust                                                  \n",
      "==============================================================================\n",
      "                 coef    std err          t      P>|t|      [0.025      0.975]\n",
      "------------------------------------------------------------------------------\n",
      "G1             0.0067      0.051      0.132      0.895      -0.094       0.107\n",
      "G2             0.9797      0.051     19.084      0.000       0.879       1.081\n",
      "==============================================================================\n",
      "Omnibus:                      261.432   Durbin-Watson:                   1.893\n",
      "Prob(Omnibus):                  0.000   Jarque-Bera (JB):             1976.762\n",
      "Skew:                          -2.899   Prob(JB):                         0.00\n",
      "Kurtosis:                      12.299   Cond. No.                         11.5\n",
      "==============================================================================\n",
      "\n",
      "Notes:\n",
      "[1] R² is computed without centering (uncentered) since the model does not contain a constant.\n",
      "[2] Standard Errors assume that the covariance matrix of the errors is correctly specified.\n"
     ]
    }
   ],
   "source": [
    "predictors = Students_data[['G1','G2']]\n",
    "response = Students_data.G3\n",
    "\n",
    "mult_mod = sm.OLS(response, predictors)\n",
    "mult_res = mult_mod.fit()\n",
    "print(mult_res.summary())"
   ]
  },
  {
   "cell_type": "code",
   "execution_count": null,
   "id": "b0f5f420",
   "metadata": {},
   "outputs": [],
   "source": []
  }
 ],
 "metadata": {
  "kernelspec": {
   "display_name": "Python 3 (ipykernel)",
   "language": "python",
   "name": "python3"
  },
  "language_info": {
   "codemirror_mode": {
    "name": "ipython",
    "version": 3
   },
   "file_extension": ".py",
   "mimetype": "text/x-python",
   "name": "python",
   "nbconvert_exporter": "python",
   "pygments_lexer": "ipython3",
   "version": "3.9.5"
  }
 },
 "nbformat": 4,
 "nbformat_minor": 5
}
